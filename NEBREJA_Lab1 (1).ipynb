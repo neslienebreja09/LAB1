{
  "nbformat": 4,
  "nbformat_minor": 0,
  "metadata": {
    "colab": {
      "provenance": []
    },
    "kernelspec": {
      "name": "python3",
      "display_name": "Python 3"
    },
    "language_info": {
      "name": "python"
    }
  },
  "cells": [
    {
      "cell_type": "code",
      "execution_count": null,
      "metadata": {
        "colab": {
          "base_uri": "https://localhost:8080/"
        },
        "id": "fP1Nfd4ds4fw",
        "outputId": "1bd03fc8-1592-4780-ba33-8cdbf9ada372"
      },
      "outputs": [
        {
          "output_type": "stream",
          "name": "stdout",
          "text": [
            "Opening Data:\n",
            "   Height  Weight  Age\n",
            "0     175      50   20\n",
            "1     140      42   21\n",
            "2     120      40   24\n",
            "\n",
            "Data with Cluster Labels: \n",
            "   Height  Weight  Age  Cluster\n",
            "0     175      50   20        0\n",
            "1     140      42   21        0\n",
            "2     120      40   24        1\n"
          ]
        }
      ],
      "source": [
        "import pandas as pd\n",
        "from sklearn.cluster import KMeans\n",
        "from sklearn.preprocessing import StandardScaler\n",
        "data = {\n",
        "    'Height' :\n",
        "     [175, 140, 120],\n",
        "    'Weight' :\n",
        "    [50, 42, 40],\n",
        "    'Age' :\n",
        "    [20, 21, 24]\n",
        "}\n",
        "\n",
        "df = pd.DataFrame (data)\n",
        "print (\"Opening Data:\")\n",
        "print (df)\n",
        "\n",
        "scaler = StandardScaler ()\n",
        "df_scaled = scaler.fit_transform(df)\n",
        "kmeans = KMeans(n_clusters = 2, random_state = 0)\n",
        "df['Cluster'] = kmeans.fit_predict(df_scaled)\n",
        "\n",
        "print ('\\nData with Cluster Labels: ')\n",
        "print (df)"
      ]
    }
  ]
}